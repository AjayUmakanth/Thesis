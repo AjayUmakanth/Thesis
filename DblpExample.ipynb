{
 "cells": [
  {
   "cell_type": "code",
   "execution_count": 1,
   "metadata": {},
   "outputs": [],
   "source": [
    "import sys\n",
    "sys.path.insert(0, '..')"
   ]
  },
  {
   "cell_type": "code",
   "execution_count": 2,
   "metadata": {},
   "outputs": [
    {
     "name": "stderr",
     "output_type": "stream",
     "text": [
      "* Owlready2 * Warning: optimized Cython parser module 'owlready2_optimized' is not available, defaulting to slower Python implementation\n"
     ]
    }
   ],
   "source": [
    "from customDBs.DBLP import load_dblp\n",
    "from ConceptLearner.DiscriminativeExplainer import DiscriminativeExplainer\n",
    "from ConceptLearner.Evaluator import Evaluator\n",
    "from ontolearn.metrics import Accuracy, F1"
   ]
  },
  {
   "cell_type": "code",
   "execution_count": 3,
   "metadata": {},
   "outputs": [],
   "source": [
    "label = 3\n",
    "yClass = \"author\""
   ]
  },
  {
   "cell_type": "code",
   "execution_count": 4,
   "metadata": {},
   "outputs": [],
   "source": [
    "from torch_geometric.datasets import DBLP\n",
    "dataset = DBLP(root=\"./datasets/dblp\")\n",
    "dataset = dataset"
   ]
  },
  {
   "cell_type": "code",
   "execution_count": 5,
   "metadata": {},
   "outputs": [
    {
     "name": "stderr",
     "output_type": "stream",
     "text": [
      "d:\\thesis paper\\Thesis\\.venv\\lib\\site-packages\\torch_geometric\\data\\in_memory_dataset.py:284: UserWarning: It is not recommended to directly access the internal storage format `data` of an 'InMemoryDataset'. If you are absolutely certain what you are doing, access the internal storage via `InMemoryDataset._data` instead to suppress this warning. Alternatively, you can access stacked individual attributes of every graph via `dataset.{attr_name}`.\n",
      "  warnings.warn(msg)\n"
     ]
    },
    {
     "data": {
      "text/plain": [
       "['author', 'paper', 'term', 'conference']"
      ]
     },
     "execution_count": 5,
     "metadata": {},
     "output_type": "execute_result"
    }
   ],
   "source": [
    "dataset.data.node_types"
   ]
  },
  {
   "cell_type": "code",
   "execution_count": 6,
   "metadata": {},
   "outputs": [
    {
     "name": "stdout",
     "output_type": "stream",
     "text": [
      "['author', 'paper', 'term', 'conference']\n"
     ]
    }
   ],
   "source": [
    "explainer = DiscriminativeExplainer(None, dataset.data, \"http://example.org/\", owl_graph_path = \"./owlGraphs/example1.owl\")"
   ]
  },
  {
   "cell_type": "code",
   "execution_count": 7,
   "metadata": {},
   "outputs": [],
   "source": [
    "hypotheses, model = explainer.explain(label, 5, debug=True, max_runtime=30, num_generations=400, use_data_properties=False, quality_func=F1())"
   ]
  },
  {
   "cell_type": "code",
   "execution_count": 8,
   "metadata": {},
   "outputs": [
    {
     "name": "stdout",
     "output_type": "stream",
     "text": [
      "<class 'ontolearn.search.EvoLearnerNode'> at 0xfc158f\t(≤ 6 to.⊤) ⊓ author\tQuality:0.40493\tLength:6\tTree Length:5\tTree Depth:2\t|Indv.|:3296\n",
      "<class 'ontolearn.search.EvoLearnerNode'> at 0xfc0eed\tauthor ⊓ (≤ 6 to.paper)\tQuality:0.40493\tLength:6\tTree Length:5\tTree Depth:2\t|Indv.|:3296\n",
      "<class 'ontolearn.search.EvoLearnerNode'> at 0xfc0f56\tauthor ⊓ (≤ 6 to.⊤)\tQuality:0.40493\tLength:6\tTree Length:5\tTree Depth:2\t|Indv.|:3296\n",
      "<class 'ontolearn.search.EvoLearnerNode'> at 0xfc0fe2\tauthor ⊓ (∀ to.(≥ 3 to.(¬author)))\tQuality:0.40493\tLength:9\tTree Length:5\tTree Depth:2\t|Indv.|:3742\n",
      "<class 'ontolearn.search.EvoLearnerNode'> at 0x055c18\tauthor ⊓ (≤ 6 to.(∃ to.(∃ to.⊤)))\tQuality:0.40493\tLength:10\tTree Length:5\tTree Depth:2\t|Indv.|:3296\n"
     ]
    },
    {
     "data": {
      "text/plain": [
       "[None, None, None, None, None]"
      ]
     },
     "execution_count": 8,
     "metadata": {},
     "output_type": "execute_result"
    }
   ],
   "source": [
    "[print(h) for h in hypotheses]"
   ]
  },
  {
   "cell_type": "code",
   "execution_count": 15,
   "metadata": {},
   "outputs": [],
   "source": [
    "base_truth = set()\n",
    "yLabels = dataset.data[yClass].y\n",
    "for i, yLabel in enumerate(yLabels):\n",
    "    if yLabel == label:\n",
    "        base_truth.add((yClass, i))"
   ]
  },
  {
   "cell_type": "code",
   "execution_count": 16,
   "metadata": {},
   "outputs": [
    {
     "data": {
      "text/plain": [
       "(0, 0.0, 0.9614972443355787)"
      ]
     },
     "execution_count": 16,
     "metadata": {},
     "output_type": "execute_result"
    }
   ],
   "source": [
    "evaluator = Evaluator(dataset.data)\n",
    "base_score = evaluator.explanation_accuracy(base_truth, hypotheses[3].concept)\n",
    "base_score"
   ]
  },
  {
   "cell_type": "code",
   "execution_count": null,
   "metadata": {},
   "outputs": [],
   "source": []
  }
 ],
 "metadata": {
  "kernelspec": {
   "display_name": ".venv",
   "language": "python",
   "name": "python3"
  },
  "language_info": {
   "codemirror_mode": {
    "name": "ipython",
    "version": 3
   },
   "file_extension": ".py",
   "mimetype": "text/x-python",
   "name": "python",
   "nbconvert_exporter": "python",
   "pygments_lexer": "ipython3",
   "version": "3.10.11"
  }
 },
 "nbformat": 4,
 "nbformat_minor": 2
}
