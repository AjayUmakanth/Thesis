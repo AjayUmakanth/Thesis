{
 "cells": [
  {
   "cell_type": "code",
   "execution_count": null,
   "metadata": {},
   "outputs": [],
   "source": [
    "import sys\n",
    "sys.path.insert(0, '..')"
   ]
  },
  {
   "cell_type": "code",
   "execution_count": null,
   "metadata": {},
   "outputs": [],
   "source": [
    "from customDBs.IMDB import load_imdb\n",
    "from customDBs.DBLP import load_dblp\n",
    "from ConceptLearner.DiscriminativeExplainer import DiscriminativeExplainer\n",
    "from ConceptLearner.Evaluator import Evaluator\n",
    "from ontolearn.metrics import Accuracy, Precision, Recall, F1"
   ]
  },
  {
   "cell_type": "code",
   "execution_count": null,
   "metadata": {},
   "outputs": [],
   "source": [
    "dataset = load_imdb(path = \"rawData\\\\imdb\", bag_of_words_size=75)\n",
    "dataset"
   ]
  },
  {
   "cell_type": "code",
   "execution_count": null,
   "metadata": {},
   "outputs": [],
   "source": [
    "dataset[\"movie\"].xKeys"
   ]
  },
  {
   "cell_type": "code",
   "execution_count": null,
   "metadata": {},
   "outputs": [],
   "source": [
    "explainer = DiscriminativeExplainer(None, dataset, \"http://example.org/\", owl_graph_path = \"./owlGraphs/imdb.owl\", generate_new_owl_file=True, create_data_properties_as_object=True)"
   ]
  },
  {
   "cell_type": "code",
   "execution_count": null,
   "metadata": {},
   "outputs": [],
   "source": [
    "label = 2\n",
    "yClass = \"movie\""
   ]
  },
  {
   "cell_type": "code",
   "execution_count": null,
   "metadata": {},
   "outputs": [],
   "source": [
    "hypotheses, model = explainer.explain(label, 5, debug=True, max_runtime=240, num_generations=750, use_data_properties=True, quality_func=F1())"
   ]
  },
  {
   "cell_type": "code",
   "execution_count": null,
   "metadata": {},
   "outputs": [],
   "source": [
    "[print(h) for h in hypotheses]"
   ]
  },
  {
   "cell_type": "code",
   "execution_count": null,
   "metadata": {},
   "outputs": [],
   "source": [
    "valuesToCheck = [Accuracy(), Recall(), Precision(), F1()]\n",
    "h = hypotheses[0].concept\n",
    "results = {}\n",
    "for valueToCheck in valuesToCheck:\n",
    "    evaluated_concept = model.kb.evaluate_concept(h, valueToCheck, model._learning_problem)\n",
    "    results[valueToCheck.name] = evaluated_concept.q\n",
    "results"
   ]
  },
  {
   "cell_type": "code",
   "execution_count": null,
   "metadata": {},
   "outputs": [],
   "source": [
    "(∃ writes.(∃ has_databases.{True})) ⊔ (∃ writes.(∃ has_database.{True})) \n",
    "⊔ (∃ writes.(∃ has_queries.{True})) ⊔ (∃ writes.(∃ has_xml.{True}))"
   ]
  },
  {
   "cell_type": "code",
   "execution_count": null,
   "metadata": {},
   "outputs": [],
   "source": [
    "∃ writes.((∃ has_retrieval.{True}) ⊔ (∃ has_web.{True}) ⊔ (∃ has_text.{True}))\n",
    "{'Accuracy': 0.95881, 'Recall': 0.63618, 'Precision': 0.61896, 'F1': 0.62745}\n",
    "\n",
    "\n",
    "base_truth = set()\n",
    "yLabels = dataset[yClass].y\n",
    "for i, yLabel in enumerate(yLabels):\n",
    "    if yLabel == label:\n",
    "        base_truth.add((yClass, i))"
   ]
  },
  {
   "cell_type": "code",
   "execution_count": null,
   "metadata": {},
   "outputs": [],
   "source": [
    "evaluator = Evaluator(dataset)\n",
    "accuracy = evaluator.explanation_accuracy(base_truth, h)\n",
    "accuracy"
   ]
  },
  {
   "cell_type": "code",
   "execution_count": null,
   "metadata": {},
   "outputs": [],
   "source": [
    "base_score = evaluator.f1_score(base_truth, h)\n",
    "base_score"
   ]
  }
 ],
 "metadata": {
  "kernelspec": {
   "display_name": ".venv",
   "language": "python",
   "name": "python3"
  },
  "language_info": {
   "codemirror_mode": {
    "name": "ipython",
    "version": 3
   },
   "file_extension": ".py",
   "mimetype": "text/x-python",
   "name": "python",
   "nbconvert_exporter": "python",
   "pygments_lexer": "ipython3",
   "version": "3.10.11"
  }
 },
 "nbformat": 4,
 "nbformat_minor": 2
}
