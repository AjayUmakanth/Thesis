{
 "cells": [
  {
   "cell_type": "code",
   "execution_count": 1,
   "metadata": {},
   "outputs": [],
   "source": [
    "import sys\n",
    "sys.path.insert(0, '..')"
   ]
  },
  {
   "cell_type": "code",
   "execution_count": 2,
   "metadata": {},
   "outputs": [
    {
     "name": "stderr",
     "output_type": "stream",
     "text": [
      "* Owlready2 * Warning: optimized Cython parser module 'owlready2_optimized' is not available, defaulting to slower Python implementation\n"
     ]
    }
   ],
   "source": [
    "from customDBs.IMDB import load_imdb\n",
    "from customDBs.DBLP import load_dblp\n",
    "from ConceptLearner.DiscriminativeExplainer import DiscriminativeExplainer\n",
    "from ConceptLearner.Evaluator import Evaluator\n",
    "from ontolearn.metrics import Accuracy, Precision, Recall, F1"
   ]
  },
  {
   "cell_type": "code",
   "execution_count": 3,
   "metadata": {},
   "outputs": [
    {
     "name": "stdout",
     "output_type": "stream",
     "text": [
      "['plot_keyword_love', 'plot_keyword_friend', 'plot_keyword_murder', 'plot_keyword_police', 'plot_keyword_death', 'plot_keyword_new_york_city', 'plot_keyword_high_school', 'plot_keyword_alien', 'plot_keyword_friendship', 'plot_keyword_school', 'plot_keyword_fbi', 'plot_keyword_prison', 'plot_keyword_revenge', 'plot_keyword_boy', 'plot_keyword_drugs', 'plot_keyword_marriage', 'plot_keyword_dog', 'plot_keyword_money', 'plot_keyword_wedding', 'plot_keyword_box_office_flop', 'plot_keyword_escape', 'plot_keyword_female_protagonist', 'plot_keyword_party', 'plot_keyword_sex', 'plot_keyword_island', 'plot_keyword_rescue', 'plot_keyword_cia', 'plot_keyword_detective', 'plot_keyword_battle', 'plot_keyword_terrorist', 'plot_keyword_best_friend', 'plot_keyword_college', 'plot_keyword_christmas', 'plot_keyword_lawyer', 'plot_keyword_scientist', 'plot_keyword_fight', 'plot_keyword_vomiting', 'plot_keyword_future', 'plot_keyword_student', 'plot_keyword_singer', 'plot_keyword_texas', 'plot_keyword_president', 'plot_keyword_hotel', 'plot_keyword_spy', 'plot_keyword_king', 'plot_keyword_secret', 'plot_keyword_train', 'plot_keyword_assassin', 'plot_keyword_teenager', 'plot_keyword_hospital', 'plot_keyword_writer', 'plot_keyword_vampire', 'plot_keyword_female_nudity', 'plot_keyword_cult_film', 'plot_keyword_actor', 'plot_keyword_soldier', 'plot_keyword_coach', 'plot_keyword_breasts', 'plot_keyword_small_town', 'plot_keyword_teacher', 'plot_keyword_doctor', 'plot_keyword_critically_bashed', 'plot_keyword_new_york', 'plot_keyword_girl', 'plot_keyword_neighbor', 'plot_keyword_bar', 'plot_keyword_sequel', 'plot_keyword_baby', 'plot_keyword_violence', 'plot_keyword_african_american', 'plot_keyword_military', 'plot_keyword_martial_arts', 'plot_keyword_superhero', 'plot_keyword_undercover', 'plot_keyword_serial_killer']\n"
     ]
    },
    {
     "data": {
      "text/plain": [
       "HeteroData(\n",
       "  movie={\n",
       "    num_nodes=3878,\n",
       "    y=[3878],\n",
       "    x=[3878, 80],\n",
       "    xKeys=[80],\n",
       "  }\n",
       ")"
      ]
     },
     "execution_count": 3,
     "metadata": {},
     "output_type": "execute_result"
    }
   ],
   "source": [
    "dataset = load_imdb(path = \"rawData\\\\imdb\", bag_of_words_size=75)\n",
    "dataset"
   ]
  },
  {
   "cell_type": "code",
   "execution_count": 4,
   "metadata": {},
   "outputs": [
    {
     "data": {
      "text/plain": [
       "tensor([[0., 0., 0.,  ..., 1., 0., 0.],\n",
       "        [0., 0., 0.,  ..., 1., 0., 0.],\n",
       "        [0., 0., 0.,  ..., 1., 0., 0.],\n",
       "        ...,\n",
       "        [0., 0., 0.,  ..., 0., 1., 0.],\n",
       "        [0., 0., 0.,  ..., 1., 0., 0.],\n",
       "        [0., 0., 0.,  ..., 0., 1., 0.]])"
      ]
     },
     "execution_count": 4,
     "metadata": {},
     "output_type": "execute_result"
    }
   ],
   "source": [
    "dataset[\"movie\"].x"
   ]
  },
  {
   "cell_type": "code",
   "execution_count": null,
   "metadata": {},
   "outputs": [],
   "source": [
    "explainer = DiscriminativeExplainer(None, dataset, \"http://example.org/\", owl_graph_path = \"./owlGraphs/imdb2.owl\", generate_new_owl_file=True, create_data_properties_as_object=False, create_nominals=True)"
   ]
  },
  {
   "cell_type": "code",
   "execution_count": null,
   "metadata": {},
   "outputs": [],
   "source": [
    "label = 0\n",
    "yClass = \"movie\""
   ]
  },
  {
   "cell_type": "code",
   "execution_count": null,
   "metadata": {},
   "outputs": [],
   "source": [
    "hypotheses, model = explainer.explain(label, 5, debug=True, max_runtime=90, num_generations=750, use_data_properties=True, quality_func=F1())"
   ]
  },
  {
   "cell_type": "code",
   "execution_count": null,
   "metadata": {},
   "outputs": [],
   "source": [
    "[print(h) for h in hypotheses]"
   ]
  },
  {
   "cell_type": "code",
   "execution_count": null,
   "metadata": {},
   "outputs": [],
   "source": [
    "valuesToCheck = [Accuracy(), Recall(), Precision(), F1()]\n",
    "h = hypotheses[0].concept\n",
    "results = {}\n",
    "for valueToCheck in valuesToCheck:\n",
    "    evaluated_concept = model.kb.evaluate_concept(h, valueToCheck, model._learning_problem)\n",
    "    results[valueToCheck.name] = evaluated_concept.q\n",
    "results"
   ]
  },
  {
   "cell_type": "code",
   "execution_count": null,
   "metadata": {},
   "outputs": [],
   "source": [
    "{'Accuracy': 0.34038, 'Recall': 0.96612, 'Precision': 0.29502, 'F1': 0.45201}\n",
    "\n",
    "\n",
    "\n",
    "\n",
    "Drama\n",
    "\n",
    "(∃ has_alien.{False}) ⊓ (∃ has_scientist.{False}) ⊓ (∃ has_future.{False}) ⊓ (∃ has_assassin.{False})\n",
    "\n",
    "\n",
    "{'Accuracy': 0.60211, 'Recall': 0.98436, 'Precision': 0.59364, 'F1': 0.74063}"
   ]
  },
  {
   "cell_type": "code",
   "execution_count": null,
   "metadata": {},
   "outputs": [],
   "source": [
    "∃ writes.((∃ has_retrieval.{True}) ⊔ (∃ has_web.{True}) ⊔ (∃ has_text.{True}))\n",
    "{'Accuracy': 0.95881, 'Recall': 0.63618, 'Precision': 0.61896, 'F1': 0.62745}\n",
    "\n",
    "\n",
    "base_truth = set()\n",
    "yLabels = dataset[yClass].y\n",
    "for i, yLabel in enumerate(yLabels):\n",
    "    if yLabel == label:\n",
    "        base_truth.add((yClass, i))"
   ]
  },
  {
   "cell_type": "code",
   "execution_count": null,
   "metadata": {},
   "outputs": [],
   "source": [
    "evaluator = Evaluator(dataset)\n",
    "accuracy = evaluator.explanation_accuracy(base_truth, h)\n",
    "accuracy"
   ]
  },
  {
   "cell_type": "code",
   "execution_count": null,
   "metadata": {},
   "outputs": [],
   "source": [
    "base_score = evaluator.f1_score(base_truth, h)\n",
    "base_score"
   ]
  },
  {
   "cell_type": "code",
   "execution_count": 10,
   "metadata": {},
   "outputs": [
    {
     "data": {
      "text/plain": [
       "['plot_keyword_love',\n",
       " 'plot_keyword_friend',\n",
       " 'plot_keyword_murder',\n",
       " 'plot_keyword_police',\n",
       " 'plot_keyword_death',\n",
       " 'plot_keyword_new_york_city',\n",
       " 'plot_keyword_high_school',\n",
       " 'plot_keyword_alien',\n",
       " 'plot_keyword_friendship',\n",
       " 'plot_keyword_school',\n",
       " 'plot_keyword_fbi',\n",
       " 'plot_keyword_prison',\n",
       " 'plot_keyword_revenge',\n",
       " 'plot_keyword_boy',\n",
       " 'plot_keyword_drugs',\n",
       " 'plot_keyword_marriage',\n",
       " 'plot_keyword_dog',\n",
       " 'plot_keyword_money',\n",
       " 'plot_keyword_wedding',\n",
       " 'plot_keyword_box_office_flop',\n",
       " 'plot_keyword_escape',\n",
       " 'plot_keyword_female_protagonist',\n",
       " 'plot_keyword_party',\n",
       " 'plot_keyword_sex',\n",
       " 'plot_keyword_island',\n",
       " 'plot_keyword_rescue',\n",
       " 'plot_keyword_cia',\n",
       " 'plot_keyword_detective',\n",
       " 'plot_keyword_battle',\n",
       " 'plot_keyword_terrorist',\n",
       " 'plot_keyword_best_friend',\n",
       " 'plot_keyword_college',\n",
       " 'plot_keyword_christmas',\n",
       " 'plot_keyword_lawyer',\n",
       " 'plot_keyword_scientist',\n",
       " 'plot_keyword_fight',\n",
       " 'plot_keyword_vomiting',\n",
       " 'plot_keyword_future',\n",
       " 'plot_keyword_student',\n",
       " 'plot_keyword_singer',\n",
       " 'plot_keyword_texas',\n",
       " 'plot_keyword_president',\n",
       " 'plot_keyword_hotel',\n",
       " 'plot_keyword_spy',\n",
       " 'plot_keyword_king',\n",
       " 'plot_keyword_secret',\n",
       " 'plot_keyword_train',\n",
       " 'plot_keyword_assassin',\n",
       " 'plot_keyword_teenager',\n",
       " 'plot_keyword_hospital',\n",
       " 'plot_keyword_writer',\n",
       " 'plot_keyword_vampire',\n",
       " 'plot_keyword_female_nudity',\n",
       " 'plot_keyword_cult_film',\n",
       " 'plot_keyword_actor',\n",
       " 'plot_keyword_soldier',\n",
       " 'plot_keyword_coach',\n",
       " 'plot_keyword_breasts',\n",
       " 'plot_keyword_small_town',\n",
       " 'plot_keyword_teacher',\n",
       " 'plot_keyword_doctor',\n",
       " 'plot_keyword_critically_bashed',\n",
       " 'plot_keyword_new_york',\n",
       " 'plot_keyword_girl',\n",
       " 'plot_keyword_neighbor',\n",
       " 'plot_keyword_bar',\n",
       " 'plot_keyword_sequel',\n",
       " 'plot_keyword_baby',\n",
       " 'plot_keyword_violence',\n",
       " 'plot_keyword_african_american',\n",
       " 'plot_keyword_military',\n",
       " 'plot_keyword_martial_arts',\n",
       " 'plot_keyword_superhero',\n",
       " 'plot_keyword_undercover',\n",
       " 'plot_keyword_serial_killer',\n",
       " 'rating_G',\n",
       " 'rating_PG',\n",
       " 'rating_PG13',\n",
       " 'rating_R',\n",
       " 'rating_NC17']"
      ]
     },
     "execution_count": 10,
     "metadata": {},
     "output_type": "execute_result"
    }
   ],
   "source": [
    "dataset[\"movie\"].xKeys"
   ]
  },
  {
   "cell_type": "code",
   "execution_count": 8,
   "metadata": {},
   "outputs": [],
   "source": [
    "import torch\n",
    "import pandas as pd\n",
    "from mlxtend.preprocessing import TransactionEncoder\n",
    "from mlxtend.frequent_patterns import apriori"
   ]
  },
  {
   "cell_type": "code",
   "execution_count": 12,
   "metadata": {},
   "outputs": [
    {
     "name": "stdout",
     "output_type": "stream",
     "text": [
      "DataFrame:\n",
      "      plot_keyword_love  plot_keyword_friend  plot_keyword_murder  \\\n",
      "0                   0.0                  0.0                  0.0   \n",
      "1                   0.0                  0.0                  0.0   \n",
      "2                   0.0                  0.0                  0.0   \n",
      "3                   0.0                  0.0                  0.0   \n",
      "4                   0.0                  0.0                  0.0   \n",
      "...                 ...                  ...                  ...   \n",
      "3873                0.0                  0.0                  0.0   \n",
      "3874                0.0                  0.0                  0.0   \n",
      "3875                0.0                  0.0                  0.0   \n",
      "3876                0.0                  0.0                  0.0   \n",
      "3877                0.0                  0.0                  0.0   \n",
      "\n",
      "      plot_keyword_police  plot_keyword_death  plot_keyword_new_york_city  \\\n",
      "0                     0.0                 0.0                         0.0   \n",
      "1                     0.0                 0.0                         0.0   \n",
      "2                     0.0                 0.0                         0.0   \n",
      "3                     0.0                 0.0                         0.0   \n",
      "4                     0.0                 0.0                         0.0   \n",
      "...                   ...                 ...                         ...   \n",
      "3873                  0.0                 0.0                         0.0   \n",
      "3874                  0.0                 0.0                         0.0   \n",
      "3875                  0.0                 1.0                         0.0   \n",
      "3876                  0.0                 0.0                         0.0   \n",
      "3877                  0.0                 0.0                         0.0   \n",
      "\n",
      "      plot_keyword_high_school  plot_keyword_alien  plot_keyword_friendship  \\\n",
      "0                          0.0                 0.0                      0.0   \n",
      "1                          0.0                 0.0                      0.0   \n",
      "2                          0.0                 0.0                      0.0   \n",
      "3                          0.0                 0.0                      0.0   \n",
      "4                          0.0                 1.0                      0.0   \n",
      "...                        ...                 ...                      ...   \n",
      "3873                       0.0                 0.0                      0.0   \n",
      "3874                       0.0                 0.0                      0.0   \n",
      "3875                       0.0                 0.0                      0.0   \n",
      "3876                       0.0                 0.0                      0.0   \n",
      "3877                       0.0                 0.0                      0.0   \n",
      "\n",
      "      plot_keyword_school  ...  plot_keyword_military  \\\n",
      "0                     0.0  ...                    0.0   \n",
      "1                     0.0  ...                    0.0   \n",
      "2                     0.0  ...                    0.0   \n",
      "3                     0.0  ...                    0.0   \n",
      "4                     0.0  ...                    0.0   \n",
      "...                   ...  ...                    ...   \n",
      "3873                  0.0  ...                    0.0   \n",
      "3874                  0.0  ...                    0.0   \n",
      "3875                  0.0  ...                    0.0   \n",
      "3876                  0.0  ...                    0.0   \n",
      "3877                  0.0  ...                    0.0   \n",
      "\n",
      "      plot_keyword_martial_arts  plot_keyword_superhero  \\\n",
      "0                           0.0                     0.0   \n",
      "1                           0.0                     0.0   \n",
      "2                           0.0                     0.0   \n",
      "3                           0.0                     0.0   \n",
      "4                           0.0                     0.0   \n",
      "...                         ...                     ...   \n",
      "3873                        0.0                     0.0   \n",
      "3874                        0.0                     0.0   \n",
      "3875                        0.0                     0.0   \n",
      "3876                        0.0                     0.0   \n",
      "3877                        0.0                     0.0   \n",
      "\n",
      "      plot_keyword_undercover  plot_keyword_serial_killer  rating_G  \\\n",
      "0                         0.0                         0.0       0.0   \n",
      "1                         0.0                         0.0       0.0   \n",
      "2                         0.0                         0.0       0.0   \n",
      "3                         0.0                         0.0       0.0   \n",
      "4                         0.0                         0.0       0.0   \n",
      "...                       ...                         ...       ...   \n",
      "3873                      0.0                         0.0       0.0   \n",
      "3874                      0.0                         0.0       0.0   \n",
      "3875                      0.0                         0.0       0.0   \n",
      "3876                      0.0                         0.0       0.0   \n",
      "3877                      0.0                         0.0       0.0   \n",
      "\n",
      "      rating_PG  rating_PG13  rating_R  rating_NC17  \n",
      "0           0.0          1.0       0.0          0.0  \n",
      "1           0.0          1.0       0.0          0.0  \n",
      "2           0.0          1.0       0.0          0.0  \n",
      "3           0.0          1.0       0.0          0.0  \n",
      "4           0.0          1.0       0.0          0.0  \n",
      "...         ...          ...       ...          ...  \n",
      "3873        0.0          0.0       1.0          0.0  \n",
      "3874        0.0          1.0       0.0          0.0  \n",
      "3875        0.0          0.0       1.0          0.0  \n",
      "3876        0.0          1.0       0.0          0.0  \n",
      "3877        0.0          0.0       1.0          0.0  \n",
      "\n",
      "[3878 rows x 80 columns]\n"
     ]
    }
   ],
   "source": [
    "# Example data tensor (replace with your actual data)\n",
    "data_tensor = dataset[\"movie\"].x\n",
    "# Convert PyTorch tensor to pandas DataFrame\n",
    "df = pd.DataFrame(data_tensor.numpy(), columns=dataset[\"movie\"].xKeys)\n",
    "\n",
    "# Display the DataFrame (optional)\n",
    "print(\"DataFrame:\")\n",
    "print(df)\n"
   ]
  },
  {
   "cell_type": "code",
   "execution_count": null,
   "metadata": {},
   "outputs": [],
   "source": [
    "# Initialize TransactionEncoder\n",
    "te = TransactionEncoder()\n",
    "te_ary = te.fit(df.values).transform(df.values)\n",
    "\n",
    "# Convert to a DataFrame with column names\n",
    "df_encoded = pd.DataFrame(te_ary, columns=te.columns_)\n",
    "\n",
    "# Apply Apriori algorithm\n",
    "frequent_itemsets = apriori(df_encoded, min_support=0.2, use_colnames=True)\n",
    "\n",
    "# Print frequent itemsets\n",
    "print(\"\\nFrequent Itemsets:\")\n",
    "print(frequent_itemsets)"
   ]
  }
 ],
 "metadata": {
  "kernelspec": {
   "display_name": ".venv",
   "language": "python",
   "name": "python3"
  },
  "language_info": {
   "codemirror_mode": {
    "name": "ipython",
    "version": 3
   },
   "file_extension": ".py",
   "mimetype": "text/x-python",
   "name": "python",
   "nbconvert_exporter": "python",
   "pygments_lexer": "ipython3",
   "version": "3.10.11"
  }
 },
 "nbformat": 4,
 "nbformat_minor": 2
}
