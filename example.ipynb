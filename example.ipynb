{
 "cells": [
  {
   "cell_type": "code",
   "execution_count": null,
   "metadata": {},
   "outputs": [],
   "source": [
    "import sys\n",
    "sys.path.insert(0, '..')"
   ]
  },
  {
   "cell_type": "code",
   "execution_count": null,
   "metadata": {},
   "outputs": [],
   "source": [
    "from XGNN.DiscriminativeApproach.DiscriminativeExplainer import DiscriminativeExplainer"
   ]
  },
  {
   "cell_type": "code",
   "execution_count": null,
   "metadata": {},
   "outputs": [],
   "source": [
    "label_to_explain = 2"
   ]
  },
  {
   "cell_type": "code",
   "execution_count": null,
   "metadata": {},
   "outputs": [],
   "source": [
    "from XGNN.Infrastructure.graph_neural_network import HGNN\n",
    "import torch"
   ]
  },
  {
   "cell_type": "code",
   "execution_count": null,
   "metadata": {},
   "outputs": [],
   "source": [
    "from XGNN.Infrastructure.Evaluator import Evaluator\n",
    "evaluator = Evaluator(dataset)"
   ]
  },
  {
   "cell_type": "code",
   "execution_count": null,
   "metadata": {},
   "outputs": [],
   "source": [
    "hgnn = HGNN(d=dataset)\n",
    "for _ in range(20):\n",
    "    print(_, hgnn.train_model())"
   ]
  },
  {
   "cell_type": "code",
   "execution_count": null,
   "metadata": {},
   "outputs": [],
   "source": [
    "pred = hgnn.predict_all(new_data=dataset)\n",
    "\n",
    "gnn_results = set()\n",
    "for i in pred.keys():\n",
    "    for ii in range(len(pred[i])):\n",
    "        if pred[i][ii] == label_to_explain:\n",
    "            gnn_results.add((ii, i))"
   ]
  },
  {
   "cell_type": "code",
   "execution_count": null,
   "metadata": {},
   "outputs": [],
   "source": [
    "from XGNN.Infrastructure.BaseExplainer import BaseExplainer\n",
    "base_explainer = BaseExplainer(gnn=hgnn, data=dataset)\n",
    "base_result = base_explainer.explain(label_to_explain)\n",
    "base_result"
   ]
  },
  {
   "cell_type": "code",
   "execution_count": null,
   "metadata": {},
   "outputs": [],
   "source": [
    "from ontolearn.owlapy.render import DLSyntaxObjectRenderer\n",
    "renderer = DLSyntaxObjectRenderer()\n",
    "print(renderer.render(base_result))"
   ]
  },
  {
   "cell_type": "code",
   "execution_count": null,
   "metadata": {},
   "outputs": [],
   "source": [
    "explainer = DiscriminativeExplainer(hgnn, dataset, \"http://example.org/\", owl_graph_path = \"./owlGraphs/example4.owl\", generate_new_owl_file=True)"
   ]
  },
  {
   "cell_type": "code",
   "execution_count": null,
   "metadata": {},
   "outputs": [],
   "source": [
    "from ontolearn.metrics import Accuracy, F1\n",
    "hypotheses, model = explainer.explain(2, 5, debug=True, max_runtime=60, num_generations=400, quality_func=F1())"
   ]
  },
  {
   "cell_type": "code",
   "execution_count": null,
   "metadata": {},
   "outputs": [],
   "source": [
    "[print(h) for h in hypotheses]"
   ]
  },
  {
   "cell_type": "code",
   "execution_count": null,
   "metadata": {},
   "outputs": [],
   "source": [
    "discriminative_result = hypotheses[0].concept\n",
    "print(renderer.render(discriminative_result))"
   ]
  },
  {
   "cell_type": "code",
   "execution_count": null,
   "metadata": {},
   "outputs": [],
   "source": [
    "from rich.table import Table\n",
    "table = Table(\"Approach\", \"Precision\", \"Recall\", \"Accuracy\", \"F1 Score\", \"Explanation\", show_lines=True)"
   ]
  },
  {
   "cell_type": "code",
   "execution_count": null,
   "metadata": {},
   "outputs": [],
   "source": [
    "base_score = evaluator.explanation_accuracy(gnn_results, base_result)\n",
    "base_f1 = evaluator.f1_score(gnn_results, base_result)\n",
    "table.add_row(\"Base Explanation\",\n",
    "                f'{base_score[0] * 100:.2f}%',\n",
    "                f'{base_score[1] * 100:.2f}%',\n",
    "                f'{base_score[2] * 100:.2f}%',\n",
    "                f'{base_f1:.4f}',\n",
    "                renderer.render(base_result))"
   ]
  },
  {
   "cell_type": "code",
   "execution_count": null,
   "metadata": {},
   "outputs": [],
   "source": [
    "for discriminative_result in hypotheses:\n",
    "    discriminative_score = evaluator.explanation_accuracy(gnn_results, discriminative_result.concept)\n",
    "    discriminative_f1 = evaluator.f1_score(gnn_results, discriminative_result.concept)\n",
    "    table.add_row(\"Discriminative Explanation\",\n",
    "                    f'{discriminative_score[0] * 100:.2f}%',\n",
    "                    f'{discriminative_score[1] * 100:.2f}%',\n",
    "                    f'{discriminative_score[2] * 100:.2f}%',\n",
    "                    f'{discriminative_f1:.4f}',\n",
    "                    renderer.render(discriminative_result.concept))"
   ]
  },
  {
   "cell_type": "code",
   "execution_count": null,
   "metadata": {},
   "outputs": [],
   "source": [
    "from rich.console import Console\n",
    "console = Console()\n",
    "console.print(table)"
   ]
  },
  {
   "cell_type": "code",
   "execution_count": null,
   "metadata": {},
   "outputs": [],
   "source": [
    "from collections import defaultdict\n",
    "import re, torch\n",
    "\n",
    "# Read the file and tokenize each line into words\n",
    "file_path = \"D:\\XGNN\\HAN-master\\data\\DBLP_four_area\\paper.txt\"  # Replace with the path to your file\n",
    "bag_of_words = []\n",
    "\n",
    "# Vocabulary to store unique words\n",
    "vocabulary = set()\n",
    "\n",
    "with open(file_path, \"r\") as file:\n",
    "    for idx, line in enumerate(file):\n",
    "        line = line.strip()\n",
    "        id, text = line.split(\"\\t\", 1)\n",
    "        words = re.findall(r'\\w+', text.lower())  # Tokenize and convert to lowercase\n",
    "        word_count = defaultdict(int)\n",
    "        for word in words:\n",
    "            vocabulary.add(word)  # Add word to vocabulary\n",
    "            word_count[word] += 1\n",
    "        bag_of_words.append({\"id\": id, \"word_count\": dict(word_count)})\n",
    "\n",
    "# Create a tensor for each document\n",
    "tensors = []\n",
    "\n",
    "for item in bag_of_words:\n",
    "    vector = [item[\"word_count\"].get(word, 0) for word in vocabulary]\n",
    "    tensor = torch.tensor(vector, dtype=torch.float32)\n",
    "    tensors.append({\"id\": item[\"id\"], \"tensor\": tensor})\n",
    "\n"
   ]
  },
  {
   "cell_type": "code",
   "execution_count": null,
   "metadata": {},
   "outputs": [],
   "source": [
    "# Optionally, print some tensors to check outputs\n",
    "for tensor in tensors[:5]:  # Print only the first 5 to avoid too much output\n",
    "    print(tensor)"
   ]
  },
  {
   "cell_type": "code",
   "execution_count": null,
   "metadata": {},
   "outputs": [],
   "source": [
    "tensors[0]['tensor'].size()"
   ]
  },
  {
   "cell_type": "code",
   "execution_count": null,
   "metadata": {},
   "outputs": [],
   "source": [
    "import csv\n",
    "from collections import defaultdict, Counter\n",
    "import re\n",
    "import torch\n",
    "\n",
    "file_path = \"D:\\\\XGNN\\\\HAN-master\\\\data\\\\DBLP_four_area\\\\paper.txt\"  # Ensure path uses double backslashes or raw string\n",
    "output_csv_path = \"output.csv\"\n",
    "\n",
    "# Function to process each line and update global vocabulary\n",
    "def process_line(line, id_to_counts, vocab, vocab_limit=10000):\n",
    "    id, text = line.split(\"\\t\", 1)\n",
    "    words = re.findall(r'\\w+', text.lower())\n",
    "    word_count = Counter(words)\n",
    "\n",
    "    # Update vocabulary only if below limit\n",
    "    if len(vocab) < vocab_limit:\n",
    "        vocab.update(word_count.keys())\n",
    "\n",
    "    # Accumulate word counts for each ID\n",
    "    id_to_counts[id].update(word_count)\n",
    "\n",
    "# Main processing block\n",
    "vocabulary = {}\n",
    "id_to_counts = defaultdict(Counter)\n",
    "\n",
    "with open(file_path, \"r\") as file:\n",
    "    for line in file:\n",
    "        process_line(line, id_to_counts, vocabulary)\n",
    "\n",
    "# Write accumulated counts to CSV file\n",
    "with open(output_csv_path, \"w\", newline='') as csvfile:\n",
    "    writer = csv.writer(csvfile)\n",
    "    writer.writerow(vocabulary.keys())  # Write header row with words as column names\n",
    "    for id, counts in id_to_counts.items():\n",
    "        row = [counts[word] for word in vocabulary]\n",
    "        writer.writerow(row)\n"
   ]
  },
  {
   "cell_type": "code",
   "execution_count": null,
   "metadata": {},
   "outputs": [],
   "source": [
    "bag_of_words_tensor"
   ]
  },
  {
   "cell_type": "code",
   "execution_count": null,
   "metadata": {},
   "outputs": [],
   "source": [
    "with open('output_file.csv', 'w', newline='') as csvfile:\n",
    "    writer = csv.writer(csvfile)\n",
    "    # Write feature names as the header\n",
    "    writer.writerow([''] + feature_names)\n",
    "    # Write sorted numbers and bag-of-words tensor rows\n",
    "    for number, row in zip(sorted_numbers, bag_of_words_tensor):\n",
    "        writer.writerow([number] + row.tolist())\n",
    "\n",
    "print(\"Output written to 'output_file.csv'\")"
   ]
  },
  {
   "cell_type": "code",
   "execution_count": 1,
   "metadata": {},
   "outputs": [
    {
     "name": "stdout",
     "output_type": "stream",
     "text": [
      "Requirement already satisfied: nltk in d:\\thesis paper\\thesis\\.venv\\lib\\site-packages (3.8.1)\n",
      "Requirement already satisfied: click in d:\\thesis paper\\thesis\\.venv\\lib\\site-packages (from nltk) (8.1.7)\n",
      "Requirement already satisfied: joblib in d:\\thesis paper\\thesis\\.venv\\lib\\site-packages (from nltk) (1.3.2)\n",
      "Requirement already satisfied: regex>=2021.8.3 in d:\\thesis paper\\thesis\\.venv\\lib\\site-packages (from nltk) (2023.10.3)\n",
      "Requirement already satisfied: tqdm in d:\\thesis paper\\thesis\\.venv\\lib\\site-packages (from nltk) (4.66.1)\n",
      "Requirement already satisfied: colorama in d:\\thesis paper\\thesis\\.venv\\lib\\site-packages (from click->nltk) (0.4.6)\n",
      "Note: you may need to restart the kernel to use updated packages.\n"
     ]
    },
    {
     "name": "stderr",
     "output_type": "stream",
     "text": [
      "\n",
      "[notice] A new release of pip is available: 23.3.2 -> 24.0\n",
      "[notice] To update, run: python.exe -m pip install --upgrade pip\n"
     ]
    }
   ],
   "source": [
    "pip install nltk"
   ]
  },
  {
   "cell_type": "code",
   "execution_count": 8,
   "metadata": {},
   "outputs": [
    {
     "name": "stdout",
     "output_type": "stream",
     "text": [
      "['i', 'me', 'my', 'myself', 'we', 'our', 'ours', 'ourselves', 'you', \"you're\", \"you've\", \"you'll\", \"you'd\", 'your', 'yours', 'yourself', 'yourselves', 'he', 'him', 'his', 'himself', 'she', \"she's\", 'her', 'hers', 'herself', 'it', \"it's\", 'its', 'itself', 'they', 'them', 'their', 'theirs', 'themselves', 'what', 'which', 'who', 'whom', 'this', 'that', \"that'll\", 'these', 'those', 'am', 'is', 'are', 'was', 'were', 'be', 'been', 'being', 'have', 'has', 'had', 'having', 'do', 'does', 'did', 'doing', 'a', 'an', 'the', 'and', 'but', 'if', 'or', 'because', 'as', 'until', 'while', 'of', 'at', 'by', 'for', 'with', 'about', 'against', 'between', 'into', 'through', 'during', 'before', 'after', 'above', 'below', 'to', 'from', 'up', 'down', 'in', 'out', 'on', 'off', 'over', 'under', 'again', 'further', 'then', 'once', 'here', 'there', 'when', 'where', 'why', 'how', 'all', 'any', 'both', 'each', 'few', 'more', 'most', 'other', 'some', 'such', 'no', 'nor', 'not', 'only', 'own', 'same', 'so', 'than', 'too', 'very', 's', 't', 'can', 'will', 'just', 'don', \"don't\", 'should', \"should've\", 'now', 'd', 'll', 'm', 'o', 're', 've', 'y', 'ain', 'aren', \"aren't\", 'couldn', \"couldn't\", 'didn', \"didn't\", 'doesn', \"doesn't\", 'hadn', \"hadn't\", 'hasn', \"hasn't\", 'haven', \"haven't\", 'isn', \"isn't\", 'ma', 'mightn', \"mightn't\", 'mustn', \"mustn't\", 'needn', \"needn't\", 'shan', \"shan't\", 'shouldn', \"shouldn't\", 'wasn', \"wasn't\", 'weren', \"weren't\", 'won', \"won't\", 'wouldn', \"wouldn't\"]\n"
     ]
    },
    {
     "name": "stderr",
     "output_type": "stream",
     "text": [
      "[nltk_data] Downloading package stopwords to\n",
      "[nltk_data]     C:\\Users\\ajayu\\AppData\\Roaming\\nltk_data...\n",
      "[nltk_data]   Package stopwords is already up-to-date!\n"
     ]
    }
   ],
   "source": [
    "from nltk.corpus import stopwords\n",
    " \n",
    "nltk.download('stopwords')\n",
    "print(stopwords.words('english'))"
   ]
  },
  {
   "cell_type": "code",
   "execution_count": 3,
   "metadata": {},
   "outputs": [
    {
     "name": "stdout",
     "output_type": "stream",
     "text": [
      "Requirement already satisfied: nltk in d:\\thesis paper\\thesis\\.venv\\lib\\site-packages (3.8.1)\n",
      "Requirement already satisfied: click in d:\\thesis paper\\thesis\\.venv\\lib\\site-packages (from nltk) (8.1.7)\n",
      "Requirement already satisfied: joblib in d:\\thesis paper\\thesis\\.venv\\lib\\site-packages (from nltk) (1.3.2)\n",
      "Requirement already satisfied: regex>=2021.8.3 in d:\\thesis paper\\thesis\\.venv\\lib\\site-packages (from nltk) (2023.10.3)\n",
      "Requirement already satisfied: tqdm in d:\\thesis paper\\thesis\\.venv\\lib\\site-packages (from nltk) (4.66.1)\n",
      "Requirement already satisfied: colorama in d:\\thesis paper\\thesis\\.venv\\lib\\site-packages (from click->nltk) (0.4.6)\n",
      "Note: you may need to restart the kernel to use updated packages.\n"
     ]
    },
    {
     "name": "stderr",
     "output_type": "stream",
     "text": [
      "\n",
      "[notice] A new release of pip is available: 23.3.2 -> 24.0\n",
      "[notice] To update, run: python.exe -m pip install --upgrade pip\n"
     ]
    }
   ],
   "source": [
    "pip install nltk"
   ]
  },
  {
   "cell_type": "code",
   "execution_count": 5,
   "metadata": {},
   "outputs": [],
   "source": [
    "from nltk.corpus import stopwords"
   ]
  },
  {
   "cell_type": "code",
   "execution_count": 7,
   "metadata": {},
   "outputs": [
    {
     "name": "stderr",
     "output_type": "stream",
     "text": [
      "[nltk_data] Downloading package stopwords to\n",
      "[nltk_data]     C:\\Users\\ajayu\\AppData\\Roaming\\nltk_data...\n",
      "[nltk_data]   Package stopwords is already up-to-date!\n"
     ]
    },
    {
     "data": {
      "text/plain": [
       "True"
      ]
     },
     "execution_count": 7,
     "metadata": {},
     "output_type": "execute_result"
    }
   ],
   "source": [
    "import nltk\n",
    "nltk.download('stopwords')"
   ]
  },
  {
   "cell_type": "code",
   "execution_count": null,
   "metadata": {},
   "outputs": [],
   "source": []
  }
 ],
 "metadata": {
  "kernelspec": {
   "display_name": ".venv",
   "language": "python",
   "name": "python3"
  },
  "language_info": {
   "codemirror_mode": {
    "name": "ipython",
    "version": 3
   },
   "file_extension": ".py",
   "mimetype": "text/x-python",
   "name": "python",
   "nbconvert_exporter": "python",
   "pygments_lexer": "ipython3",
   "version": "3.10.11"
  }
 },
 "nbformat": 4,
 "nbformat_minor": 2
}
